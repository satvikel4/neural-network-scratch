{
 "cells": [
  {
   "cell_type": "code",
   "execution_count": 1,
   "id": "d2bf5dfb",
   "metadata": {
    "_cell_guid": "b1076dfc-b9ad-4769-8c92-a6c4dae69d19",
    "_uuid": "8f2839f25d086af736a60e9eeb907d3b93b6e0e5",
    "execution": {
     "iopub.execute_input": "2024-07-26T18:07:19.725402Z",
     "iopub.status.busy": "2024-07-26T18:07:19.725026Z",
     "iopub.status.idle": "2024-07-26T18:07:20.715527Z",
     "shell.execute_reply": "2024-07-26T18:07:20.714415Z"
    },
    "papermill": {
     "duration": 0.99817,
     "end_time": "2024-07-26T18:07:20.718231",
     "exception": false,
     "start_time": "2024-07-26T18:07:19.720061",
     "status": "completed"
    },
    "tags": []
   },
   "outputs": [],
   "source": [
    "import numpy as np\n",
    "import pandas as pd\n",
    "from matplotlib import pyplot as plt"
   ]
  },
  {
   "cell_type": "code",
   "execution_count": 2,
   "id": "c67de25b",
   "metadata": {
    "execution": {
     "iopub.execute_input": "2024-07-26T18:07:20.726564Z",
     "iopub.status.busy": "2024-07-26T18:07:20.726092Z",
     "iopub.status.idle": "2024-07-26T18:07:24.042436Z",
     "shell.execute_reply": "2024-07-26T18:07:24.041220Z"
    },
    "papermill": {
     "duration": 3.323505,
     "end_time": "2024-07-26T18:07:24.045169",
     "exception": false,
     "start_time": "2024-07-26T18:07:20.721664",
     "status": "completed"
    },
    "tags": []
   },
   "outputs": [],
   "source": [
    "data = pd.read_csv('/kaggle/input/digit-recognizer/train.csv')"
   ]
  },
  {
   "cell_type": "code",
   "execution_count": 3,
   "id": "d06bf606",
   "metadata": {
    "execution": {
     "iopub.execute_input": "2024-07-26T18:07:24.053309Z",
     "iopub.status.busy": "2024-07-26T18:07:24.052926Z",
     "iopub.status.idle": "2024-07-26T18:07:24.876592Z",
     "shell.execute_reply": "2024-07-26T18:07:24.875266Z"
    },
    "papermill": {
     "duration": 0.831012,
     "end_time": "2024-07-26T18:07:24.879519",
     "exception": false,
     "start_time": "2024-07-26T18:07:24.048507",
     "status": "completed"
    },
    "tags": []
   },
   "outputs": [],
   "source": [
    "data = np.array(data)\n",
    "m, n = data.shape\n",
    "np.random.shuffle(data) \n",
    "\n",
    "data_dev = data[0:1000].T\n",
    "Y_dev = data_dev[0]\n",
    "X_dev = data_dev[1:n]\n",
    "X_dev = X_dev / 255.\n",
    "\n",
    "data_train = data[1000:m].T\n",
    "Y_train = data_train[0]\n",
    "X_train = data_train[1:n]\n",
    "X_train = X_train / 255.\n",
    "_,m_train = X_train.shape"
   ]
  },
  {
   "cell_type": "code",
   "execution_count": 4,
   "id": "4691188f",
   "metadata": {
    "execution": {
     "iopub.execute_input": "2024-07-26T18:07:24.889829Z",
     "iopub.status.busy": "2024-07-26T18:07:24.889428Z",
     "iopub.status.idle": "2024-07-26T18:07:24.902156Z",
     "shell.execute_reply": "2024-07-26T18:07:24.901032Z"
    },
    "papermill": {
     "duration": 0.020286,
     "end_time": "2024-07-26T18:07:24.904505",
     "exception": false,
     "start_time": "2024-07-26T18:07:24.884219",
     "status": "completed"
    },
    "tags": []
   },
   "outputs": [],
   "source": [
    "def init_params():\n",
    "    W1 = np.random.rand(10, 784) - 0.5\n",
    "    b1 = np.random.rand(10, 1) - 0.5\n",
    "    W2 = np.random.rand(10, 10) - 0.5\n",
    "    b2 = np.random.rand(10, 1) - 0.5\n",
    "    return W1, b1, W2, b2\n",
    "\n",
    "def ReLU(Z):\n",
    "    return np.maximum(Z, 0)\n",
    "\n",
    "def softmax(Z):\n",
    "    A = np.exp(Z) / sum(np.exp(Z))\n",
    "    return A\n",
    "    \n",
    "def forward_prop(W1, b1, W2, b2, X):\n",
    "    Z1 = W1.dot(X) + b1\n",
    "    A1 = ReLU(Z1)\n",
    "    Z2 = W2.dot(A1) + b2\n",
    "    A2 = softmax(Z2)\n",
    "    return Z1, A1, Z2, A2\n",
    "\n",
    "def ReLU_deriv(Z):\n",
    "    return Z > 0\n",
    "\n",
    "def one_hot(Y):\n",
    "    one_hot_Y = np.zeros((Y.size, Y.max() + 1))\n",
    "    one_hot_Y[np.arange(Y.size), Y] = 1\n",
    "    one_hot_Y = one_hot_Y.T\n",
    "    return one_hot_Y\n",
    "\n",
    "def backward_prop(Z1, A1, Z2, A2, W1, W2, X, Y):\n",
    "    one_hot_Y = one_hot(Y)\n",
    "    dZ2 = A2 - one_hot_Y\n",
    "    dW2 = 1 / m * dZ2.dot(A1.T)\n",
    "    db2 = 1 / m * np.sum(dZ2)\n",
    "    dZ1 = W2.T.dot(dZ2) * ReLU_deriv(Z1)\n",
    "    dW1 = 1 / m * dZ1.dot(X.T)\n",
    "    db1 = 1 / m * np.sum(dZ1)\n",
    "    return dW1, db1, dW2, db2\n",
    "\n",
    "def update_params(W1, b1, W2, b2, dW1, db1, dW2, db2, alpha):\n",
    "    W1 = W1 - alpha * dW1\n",
    "    b1 = b1 - alpha * db1    \n",
    "    W2 = W2 - alpha * dW2  \n",
    "    b2 = b2 - alpha * db2    \n",
    "    return W1, b1, W2, b2"
   ]
  },
  {
   "cell_type": "code",
   "execution_count": 5,
   "id": "848687c8",
   "metadata": {
    "execution": {
     "iopub.execute_input": "2024-07-26T18:07:24.912867Z",
     "iopub.status.busy": "2024-07-26T18:07:24.912457Z",
     "iopub.status.idle": "2024-07-26T18:07:24.920593Z",
     "shell.execute_reply": "2024-07-26T18:07:24.919406Z"
    },
    "papermill": {
     "duration": 0.015373,
     "end_time": "2024-07-26T18:07:24.923092",
     "exception": false,
     "start_time": "2024-07-26T18:07:24.907719",
     "status": "completed"
    },
    "tags": []
   },
   "outputs": [],
   "source": [
    "def get_predictions(A2):\n",
    "    return np.argmax(A2, 0)\n",
    "\n",
    "def get_accuracy(predictions, Y):\n",
    "    print(predictions, Y)\n",
    "    return np.sum(predictions == Y) / Y.size\n",
    "\n",
    "def gradient_descent(X, Y, alpha, iterations):\n",
    "    W1, b1, W2, b2 = init_params()\n",
    "    for i in range(iterations):\n",
    "        Z1, A1, Z2, A2 = forward_prop(W1, b1, W2, b2, X)\n",
    "        dW1, db1, dW2, db2 = backward_prop(Z1, A1, Z2, A2, W1, W2, X, Y)\n",
    "        W1, b1, W2, b2 = update_params(W1, b1, W2, b2, dW1, db1, dW2, db2, alpha)\n",
    "        if i % 10 == 0:\n",
    "            print(\"Iteration: \", i)\n",
    "            predictions = get_predictions(A2)\n",
    "            print(get_accuracy(predictions, Y))\n",
    "    return W1, b1, W2, b2"
   ]
  },
  {
   "cell_type": "code",
   "execution_count": 6,
   "id": "e99751dd",
   "metadata": {
    "execution": {
     "iopub.execute_input": "2024-07-26T18:07:24.931413Z",
     "iopub.status.busy": "2024-07-26T18:07:24.930720Z",
     "iopub.status.idle": "2024-07-26T18:08:19.386590Z",
     "shell.execute_reply": "2024-07-26T18:08:19.385345Z"
    },
    "papermill": {
     "duration": 54.463885,
     "end_time": "2024-07-26T18:08:19.390265",
     "exception": false,
     "start_time": "2024-07-26T18:07:24.926380",
     "status": "completed"
    },
    "tags": []
   },
   "outputs": [
    {
     "name": "stdout",
     "output_type": "stream",
     "text": [
      "Iteration:  0\n",
      "[7 6 5 ... 7 2 2] [2 4 4 ... 1 7 8]\n",
      "0.09329268292682927\n",
      "Iteration:  10\n",
      "[2 3 4 ... 2 1 5] [2 4 4 ... 1 7 8]\n",
      "0.21409756097560975\n",
      "Iteration:  20\n",
      "[2 3 4 ... 1 1 5] [2 4 4 ... 1 7 8]\n",
      "0.2868292682926829\n",
      "Iteration:  30\n",
      "[2 3 4 ... 1 7 5] [2 4 4 ... 1 7 8]\n",
      "0.369390243902439\n",
      "Iteration:  40\n",
      "[2 4 4 ... 1 7 4] [2 4 4 ... 1 7 8]\n",
      "0.43041463414634146\n",
      "Iteration:  50\n",
      "[2 4 4 ... 1 7 4] [2 4 4 ... 1 7 8]\n",
      "0.47729268292682925\n",
      "Iteration:  60\n",
      "[2 4 4 ... 1 7 8] [2 4 4 ... 1 7 8]\n",
      "0.518609756097561\n",
      "Iteration:  70\n",
      "[2 4 4 ... 1 7 8] [2 4 4 ... 1 7 8]\n",
      "0.554439024390244\n",
      "Iteration:  80\n",
      "[2 4 4 ... 1 7 8] [2 4 4 ... 1 7 8]\n",
      "0.5832195121951219\n",
      "Iteration:  90\n",
      "[2 4 4 ... 1 7 8] [2 4 4 ... 1 7 8]\n",
      "0.6094878048780488\n",
      "Iteration:  100\n",
      "[2 4 4 ... 1 7 8] [2 4 4 ... 1 7 8]\n",
      "0.6318048780487805\n",
      "Iteration:  110\n",
      "[2 4 4 ... 1 7 8] [2 4 4 ... 1 7 8]\n",
      "0.6522926829268293\n",
      "Iteration:  120\n",
      "[2 4 4 ... 1 7 8] [2 4 4 ... 1 7 8]\n",
      "0.6693414634146342\n",
      "Iteration:  130\n",
      "[2 4 4 ... 1 7 8] [2 4 4 ... 1 7 8]\n",
      "0.6853414634146342\n",
      "Iteration:  140\n",
      "[2 4 4 ... 1 7 8] [2 4 4 ... 1 7 8]\n",
      "0.7\n",
      "Iteration:  150\n",
      "[2 4 4 ... 1 7 8] [2 4 4 ... 1 7 8]\n",
      "0.711780487804878\n",
      "Iteration:  160\n",
      "[2 4 4 ... 1 7 8] [2 4 4 ... 1 7 8]\n",
      "0.7235365853658536\n",
      "Iteration:  170\n",
      "[2 4 4 ... 1 7 8] [2 4 4 ... 1 7 8]\n",
      "0.732609756097561\n",
      "Iteration:  180\n",
      "[2 4 4 ... 1 7 8] [2 4 4 ... 1 7 8]\n",
      "0.7419756097560976\n",
      "Iteration:  190\n",
      "[2 4 4 ... 1 7 8] [2 4 4 ... 1 7 8]\n",
      "0.7514634146341463\n",
      "Iteration:  200\n",
      "[2 4 4 ... 1 7 8] [2 4 4 ... 1 7 8]\n",
      "0.7592926829268293\n",
      "Iteration:  210\n",
      "[2 4 4 ... 1 7 8] [2 4 4 ... 1 7 8]\n",
      "0.7662682926829268\n",
      "Iteration:  220\n",
      "[2 4 4 ... 1 7 8] [2 4 4 ... 1 7 8]\n",
      "0.7723414634146342\n",
      "Iteration:  230\n",
      "[2 4 4 ... 1 7 8] [2 4 4 ... 1 7 8]\n",
      "0.7783658536585366\n",
      "Iteration:  240\n",
      "[2 4 4 ... 1 7 8] [2 4 4 ... 1 7 8]\n",
      "0.7839756097560976\n",
      "Iteration:  250\n",
      "[2 4 4 ... 1 7 8] [2 4 4 ... 1 7 8]\n",
      "0.7890487804878049\n",
      "Iteration:  260\n",
      "[2 4 4 ... 1 7 8] [2 4 4 ... 1 7 8]\n",
      "0.7936585365853659\n",
      "Iteration:  270\n",
      "[2 4 4 ... 1 7 8] [2 4 4 ... 1 7 8]\n",
      "0.7977317073170732\n",
      "Iteration:  280\n",
      "[2 4 4 ... 1 7 8] [2 4 4 ... 1 7 8]\n",
      "0.8012926829268293\n",
      "Iteration:  290\n",
      "[2 4 4 ... 1 7 8] [2 4 4 ... 1 7 8]\n",
      "0.8045609756097561\n",
      "Iteration:  300\n",
      "[2 4 4 ... 1 7 8] [2 4 4 ... 1 7 8]\n",
      "0.8079512195121952\n",
      "Iteration:  310\n",
      "[2 4 4 ... 1 7 8] [2 4 4 ... 1 7 8]\n",
      "0.8112439024390244\n",
      "Iteration:  320\n",
      "[2 4 4 ... 1 7 8] [2 4 4 ... 1 7 8]\n",
      "0.8143658536585365\n",
      "Iteration:  330\n",
      "[2 4 4 ... 1 7 8] [2 4 4 ... 1 7 8]\n",
      "0.817170731707317\n",
      "Iteration:  340\n",
      "[2 4 4 ... 1 7 8] [2 4 4 ... 1 7 8]\n",
      "0.8198780487804878\n",
      "Iteration:  350\n",
      "[2 4 4 ... 1 7 8] [2 4 4 ... 1 7 8]\n",
      "0.8220243902439024\n",
      "Iteration:  360\n",
      "[2 4 4 ... 1 7 8] [2 4 4 ... 1 7 8]\n",
      "0.8245365853658536\n",
      "Iteration:  370\n",
      "[2 4 4 ... 1 7 8] [2 4 4 ... 1 7 8]\n",
      "0.8271219512195122\n",
      "Iteration:  380\n",
      "[2 4 4 ... 1 7 8] [2 4 4 ... 1 7 8]\n",
      "0.8295121951219512\n",
      "Iteration:  390\n",
      "[2 4 4 ... 1 7 8] [2 4 4 ... 1 7 8]\n",
      "0.8315609756097561\n",
      "Iteration:  400\n",
      "[2 4 4 ... 1 7 8] [2 4 4 ... 1 7 8]\n",
      "0.8334390243902439\n",
      "Iteration:  410\n",
      "[2 4 4 ... 1 7 8] [2 4 4 ... 1 7 8]\n",
      "0.8355365853658536\n",
      "Iteration:  420\n",
      "[2 4 4 ... 1 7 8] [2 4 4 ... 1 7 8]\n",
      "0.8373658536585366\n",
      "Iteration:  430\n",
      "[2 4 4 ... 1 7 8] [2 4 4 ... 1 7 8]\n",
      "0.8393170731707317\n",
      "Iteration:  440\n",
      "[2 4 4 ... 1 7 8] [2 4 4 ... 1 7 8]\n",
      "0.8407560975609756\n",
      "Iteration:  450\n",
      "[2 4 4 ... 1 7 8] [2 4 4 ... 1 7 8]\n",
      "0.8420975609756097\n",
      "Iteration:  460\n",
      "[2 4 4 ... 1 7 8] [2 4 4 ... 1 7 8]\n",
      "0.843390243902439\n",
      "Iteration:  470\n",
      "[2 4 4 ... 1 7 8] [2 4 4 ... 1 7 8]\n",
      "0.8448292682926829\n",
      "Iteration:  480\n",
      "[2 4 4 ... 1 7 8] [2 4 4 ... 1 7 8]\n",
      "0.8462439024390244\n",
      "Iteration:  490\n",
      "[2 4 4 ... 1 7 8] [2 4 4 ... 1 7 8]\n",
      "0.8474878048780488\n"
     ]
    }
   ],
   "source": [
    "W1, b1, W2, b2 = gradient_descent(X_train, Y_train, 0.10, 500)"
   ]
  },
  {
   "cell_type": "code",
   "execution_count": 7,
   "id": "47caebd6",
   "metadata": {
    "execution": {
     "iopub.execute_input": "2024-07-26T18:08:19.416890Z",
     "iopub.status.busy": "2024-07-26T18:08:19.416266Z",
     "iopub.status.idle": "2024-07-26T18:08:19.429873Z",
     "shell.execute_reply": "2024-07-26T18:08:19.428197Z"
    },
    "papermill": {
     "duration": 0.031222,
     "end_time": "2024-07-26T18:08:19.433867",
     "exception": false,
     "start_time": "2024-07-26T18:08:19.402645",
     "status": "completed"
    },
    "tags": []
   },
   "outputs": [],
   "source": [
    "def make_predictions(X, W1, b1, W2, b2):\n",
    "    _, _, _, A2 = forward_prop(W1, b1, W2, b2, X)\n",
    "    predictions = get_predictions(A2)\n",
    "    return predictions\n",
    "\n",
    "def test_prediction(index, W1, b1, W2, b2):\n",
    "    current_image = X_train[:, index, None]\n",
    "    prediction = make_predictions(X_train[:, index, None], W1, b1, W2, b2)\n",
    "    label = Y_train[index]\n",
    "    print(\"Prediction: \", prediction)\n",
    "    print(\"Label: \", label)\n",
    "    \n",
    "    current_image = current_image.reshape((28, 28)) * 255\n",
    "    plt.gray()\n",
    "    plt.imshow(current_image, interpolation='nearest')\n",
    "    plt.show()"
   ]
  },
  {
   "cell_type": "code",
   "execution_count": 8,
   "id": "34d64e44",
   "metadata": {
    "execution": {
     "iopub.execute_input": "2024-07-26T18:08:19.458059Z",
     "iopub.status.busy": "2024-07-26T18:08:19.457470Z",
     "iopub.status.idle": "2024-07-26T18:08:19.490223Z",
     "shell.execute_reply": "2024-07-26T18:08:19.488976Z"
    },
    "papermill": {
     "duration": 0.048572,
     "end_time": "2024-07-26T18:08:19.493862",
     "exception": false,
     "start_time": "2024-07-26T18:08:19.445290",
     "status": "completed"
    },
    "tags": []
   },
   "outputs": [
    {
     "name": "stdout",
     "output_type": "stream",
     "text": [
      "[4 8 3 1 2 6 3 4 0 9 4 5 9 5 8 4 5 6 1 2 6 3 8 1 2 9 4 7 4 7 2 0 0 9 1 9 6\n",
      " 3 4 9 6 2 0 4 9 6 8 4 0 5 9 3 3 8 0 9 2 2 1 1 4 3 9 4 7 1 4 6 4 1 3 5 7 4\n",
      " 2 7 3 0 7 0 5 7 3 0 3 9 2 4 9 8 0 0 9 8 6 6 8 0 7 1 8 3 2 3 6 0 8 1 6 8 2\n",
      " 5 5 8 1 1 9 9 4 7 8 6 6 1 9 4 4 4 5 0 1 5 1 1 5 6 2 8 4 4 2 5 7 4 8 9 2 4\n",
      " 7 6 0 6 2 2 0 4 9 7 2 4 5 7 4 3 3 8 7 0 9 4 9 8 9 9 4 7 0 3 8 8 8 0 1 6 4\n",
      " 5 0 6 0 0 3 9 4 9 3 0 6 6 2 2 1 8 8 4 8 0 1 2 4 9 2 4 2 1 6 5 3 9 6 2 0 8\n",
      " 2 8 3 3 6 3 0 8 8 6 2 7 7 8 7 1 6 7 9 8 0 7 0 4 5 1 5 5 8 0 7 0 8 0 8 7 6\n",
      " 1 3 6 7 0 9 3 6 9 4 7 2 6 5 2 2 7 1 6 8 0 1 1 8 0 8 8 6 6 6 3 0 3 1 1 0 6\n",
      " 5 7 0 1 8 9 6 7 7 8 6 8 6 3 3 6 2 8 4 3 3 2 1 1 3 2 8 4 9 1 1 6 3 6 0 9 7\n",
      " 6 7 4 5 9 8 3 1 1 0 8 4 3 9 4 1 8 8 3 9 3 3 6 1 6 5 7 7 2 8 0 6 7 5 0 2 1\n",
      " 1 3 3 6 0 5 4 6 1 2 2 3 8 6 4 8 7 7 8 7 3 7 3 1 6 2 5 6 3 9 6 9 4 1 0 2 7\n",
      " 0 2 5 8 5 9 6 9 5 9 9 8 4 8 8 0 7 4 7 1 9 4 5 1 3 9 9 0 0 4 5 2 7 8 8 0 5\n",
      " 0 3 5 5 4 7 4 5 4 1 5 1 6 2 5 3 5 4 3 6 9 5 7 5 5 5 7 6 1 1 6 6 1 1 4 9 9\n",
      " 4 1 8 3 1 6 2 7 9 1 6 5 2 2 0 6 4 1 8 8 4 5 2 7 7 2 4 2 3 6 4 9 3 1 7 6 5\n",
      " 3 4 7 9 6 1 7 7 3 9 5 6 9 4 4 6 4 9 6 7 2 9 6 7 1 4 4 2 2 1 5 1 2 7 4 2 7\n",
      " 9 7 7 7 5 9 4 0 4 3 9 6 0 2 5 2 7 2 7 7 7 6 1 0 9 4 3 3 3 6 2 4 1 0 1 1 6\n",
      " 8 1 8 4 5 1 2 1 8 1 0 9 3 0 2 9 3 4 5 7 2 4 2 3 8 8 6 7 5 8 7 3 7 8 7 6 7\n",
      " 8 0 4 7 3 8 3 5 2 0 6 0 0 3 4 4 9 8 2 3 2 3 7 0 8 1 4 7 7 8 6 8 1 8 0 3 9\n",
      " 6 8 6 2 5 7 0 2 4 0 9 6 6 8 0 2 1 9 0 4 7 6 9 7 1 5 9 7 3 1 4 8 0 7 9 6 9\n",
      " 1 7 9 8 1 0 9 1 5 0 0 6 0 7 7 5 7 4 2 6 8 0 5 1 4 7 4 5 1 5 7 9 6 1 0 5 2\n",
      " 8 9 2 8 8 8 0 3 8 1 0 1 0 1 1 7 7 4 9 2 1 6 2 2 4 1 7 1 0 9 9 4 9 2 6 7 3\n",
      " 1 7 7 5 3 8 7 0 3 6 2 9 8 3 0 1 4 5 9 3 5 5 5 3 7 0 4 3 5 2 7 3 1 6 1 1 6\n",
      " 8 7 4 5 8 4 0 4 9 4 9 5 3 8 5 1 0 5 6 5 9 4 1 6 6 0 1 9 8 4 4 2 2 9 8 6 8\n",
      " 1 7 1 5 0 1 5 8 7 3 3 3 7 9 1 8 3 0 4 0 6 1 8 3 7 3 1 3 1 0 1 5 0 7 6 7 7\n",
      " 1 0 7 2 4 1 7 1 4 8 3 6 5 8 9 5 6 0 4 5 7 4 4 6 9 7 0 7 4 2 0 4 8 5 8 5 9\n",
      " 0 3 7 5 4 0 4 7 1 4 1 5 8 6 5 5 6 1 3 0 1 4 0 5 9 2 8 6 3 1 3 4 7 9 4 7 6\n",
      " 3 0 1 9 8 1 1 7 5 1 6 8 7 7 3 2 7 0 7 7 8 8 3 6 5 3 6 6 6 0 3 8 6 7 7 1 3\n",
      " 6] [4 8 3 1 3 6 3 4 0 9 4 5 9 5 3 4 5 6 1 2 6 3 8 1 2 9 5 7 4 7 3 0 0 2 1 9 6\n",
      " 3 9 9 6 2 0 4 8 5 8 9 0 0 9 3 3 8 0 9 2 2 1 1 4 8 9 4 7 1 4 6 4 1 3 8 0 4\n",
      " 2 7 2 0 9 0 5 7 3 0 3 9 2 6 9 5 0 0 9 2 6 6 8 8 9 1 9 3 2 3 6 0 8 1 6 8 2\n",
      " 5 3 5 1 1 9 9 4 9 8 6 6 1 5 4 9 4 5 0 1 0 1 1 5 6 2 8 4 4 2 8 7 4 8 9 6 2\n",
      " 7 6 0 6 2 2 0 4 9 7 2 4 8 7 4 3 3 8 7 0 9 4 9 8 4 9 4 7 0 5 8 8 8 0 9 6 4\n",
      " 8 0 6 0 0 3 8 4 7 2 0 6 6 2 2 1 4 1 9 8 0 1 2 4 9 2 4 2 1 6 5 3 4 6 2 0 8\n",
      " 2 8 3 3 6 3 0 8 8 5 2 7 7 8 7 1 6 7 9 8 0 7 0 4 5 1 7 5 3 0 7 0 8 2 8 7 4\n",
      " 1 3 6 7 0 7 3 6 9 4 7 2 2 5 2 2 7 1 6 8 0 8 1 8 0 8 8 2 6 6 2 0 3 1 1 0 6\n",
      " 5 7 0 1 8 9 6 7 7 4 6 2 6 5 3 6 6 8 4 3 3 2 1 8 3 3 8 4 9 1 1 6 3 6 0 9 7\n",
      " 6 7 4 5 9 8 3 1 7 0 8 2 3 9 4 1 8 8 3 9 3 2 6 1 6 5 7 7 2 8 0 6 7 5 0 2 1\n",
      " 8 3 3 6 0 5 4 6 1 2 2 3 8 6 4 5 7 7 5 7 2 7 3 1 6 6 5 6 8 9 6 9 4 1 0 2 7\n",
      " 0 8 5 8 8 9 5 9 5 9 9 9 4 8 8 0 7 4 7 1 9 4 0 1 3 9 9 0 0 4 5 2 7 8 8 0 5\n",
      " 0 5 5 5 4 7 4 5 7 1 5 1 6 2 8 3 5 4 3 6 9 5 7 5 5 5 7 6 8 1 6 6 1 2 4 9 9\n",
      " 4 1 8 3 1 6 2 7 4 1 6 3 2 0 0 6 4 1 8 9 4 5 6 7 7 2 4 6 3 6 4 9 3 1 7 6 8\n",
      " 8 4 7 9 9 8 7 7 3 4 5 6 9 4 4 6 5 9 0 5 2 4 6 7 1 4 4 2 2 1 5 1 2 7 4 6 7\n",
      " 9 7 9 7 5 7 4 0 4 8 9 6 0 2 0 2 7 2 7 7 7 6 2 0 9 9 5 3 3 6 6 4 1 0 1 1 6\n",
      " 8 3 8 4 5 1 2 1 8 1 0 9 3 0 2 9 5 4 5 7 2 4 2 2 8 8 5 7 5 2 9 3 7 5 7 4 7\n",
      " 8 0 4 7 9 8 3 5 2 0 6 0 0 3 6 2 9 8 2 3 2 3 7 0 8 1 4 7 7 8 6 8 1 8 0 3 9\n",
      " 6 8 6 2 8 7 0 2 4 0 4 6 6 5 3 2 1 9 0 4 7 6 9 7 1 5 9 7 3 1 4 8 0 7 9 1 7\n",
      " 1 7 9 1 1 0 9 6 7 0 0 6 0 7 3 5 7 4 2 6 8 0 5 1 4 7 4 5 1 2 7 4 6 1 0 8 2\n",
      " 8 9 2 2 8 3 0 3 8 1 0 1 0 1 8 7 7 4 9 2 1 6 2 2 4 1 2 1 0 9 9 4 9 2 6 9 3\n",
      " 1 7 7 9 3 8 7 0 3 6 2 9 8 5 6 3 4 5 9 3 5 5 5 5 7 0 8 3 5 6 7 3 1 6 7 1 6\n",
      " 8 7 4 8 8 4 0 4 7 4 9 5 3 8 5 1 0 3 6 5 9 6 7 6 5 0 1 9 3 9 4 2 2 9 8 2 8\n",
      " 7 9 1 5 0 1 5 8 2 5 3 3 7 9 1 2 3 0 4 0 5 1 3 0 7 3 1 3 1 0 1 8 0 3 6 3 7\n",
      " 1 0 7 2 4 1 7 1 4 9 3 6 5 8 9 5 6 0 4 5 7 4 4 6 9 7 0 7 4 2 0 4 5 5 8 5 9\n",
      " 7 3 7 5 9 0 4 7 1 9 1 8 5 6 5 5 6 1 2 0 1 4 0 5 9 2 8 6 3 1 3 4 7 9 4 7 6\n",
      " 3 0 1 9 1 1 1 7 5 7 6 8 7 7 5 2 7 0 7 7 2 8 0 6 5 3 6 6 8 0 5 8 6 7 7 1 3\n",
      " 6]\n"
     ]
    },
    {
     "data": {
      "text/plain": [
       "0.827"
      ]
     },
     "execution_count": 8,
     "metadata": {},
     "output_type": "execute_result"
    }
   ],
   "source": [
    "dev_predictions = make_predictions(X_dev, W1, b1, W2, b2)\n",
    "get_accuracy(dev_predictions, Y_dev)"
   ]
  },
  {
   "cell_type": "code",
   "execution_count": null,
   "id": "3c2d84e9",
   "metadata": {
    "papermill": {
     "duration": 0.010964,
     "end_time": "2024-07-26T18:08:19.517000",
     "exception": false,
     "start_time": "2024-07-26T18:08:19.506036",
     "status": "completed"
    },
    "tags": []
   },
   "outputs": [],
   "source": []
  }
 ],
 "metadata": {
  "kaggle": {
   "accelerator": "none",
   "dataSources": [
    {
     "databundleVersionId": 861823,
     "sourceId": 3004,
     "sourceType": "competition"
    }
   ],
   "dockerImageVersionId": 30746,
   "isGpuEnabled": false,
   "isInternetEnabled": true,
   "language": "python",
   "sourceType": "notebook"
  },
  "kernelspec": {
   "display_name": "Python 3",
   "language": "python",
   "name": "python3"
  },
  "language_info": {
   "codemirror_mode": {
    "name": "ipython",
    "version": 3
   },
   "file_extension": ".py",
   "mimetype": "text/x-python",
   "name": "python",
   "nbconvert_exporter": "python",
   "pygments_lexer": "ipython3",
   "version": "3.10.13"
  },
  "papermill": {
   "default_parameters": {},
   "duration": 63.333648,
   "end_time": "2024-07-26T18:08:20.056203",
   "environment_variables": {},
   "exception": null,
   "input_path": "__notebook__.ipynb",
   "output_path": "__notebook__.ipynb",
   "parameters": {},
   "start_time": "2024-07-26T18:07:16.722555",
   "version": "2.5.0"
  }
 },
 "nbformat": 4,
 "nbformat_minor": 5
}
